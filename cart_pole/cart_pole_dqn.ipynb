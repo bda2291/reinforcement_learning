{
 "cells": [
  {
   "cell_type": "code",
   "execution_count": 1,
   "metadata": {},
   "outputs": [],
   "source": [
    "import random\n",
    "from collections import namedtuple, deque\n",
    "\n",
    "import gym\n",
    "import numpy as np\n",
    "import pandas as pd\n",
    "import torch\n",
    "from torch import nn\n",
    "from torch.optim import Adam\n",
    "from torch.autograd import Variable"
   ]
  },
  {
   "cell_type": "code",
   "execution_count": 2,
   "metadata": {},
   "outputs": [],
   "source": [
    "from IPython.display import clear_output\n",
    "import matplotlib.pyplot as plt\n",
    "%matplotlib inline"
   ]
  },
  {
   "cell_type": "code",
   "execution_count": 3,
   "metadata": {},
   "outputs": [],
   "source": [
    "def set_seed(seed=22):\n",
    "    random.seed(seed)\n",
    "    env.seed(seed)\n",
    "    np.random.seed(seed)\n",
    "    torch.manual_seed(seed)\n",
    "    torch.cuda.manual_seed(seed)\n",
    "    torch.backends.cudnn.deterministic = True"
   ]
  },
  {
   "cell_type": "code",
   "execution_count": 4,
   "metadata": {},
   "outputs": [
    {
     "name": "stdout",
     "output_type": "stream",
     "text": [
      "\n",
      "    Description:\n",
      "        A pole is attached by an un-actuated joint to a cart, which moves along a frictionless track. The pendulum starts upright, and the goal is to prevent it from falling over by increasing and reducing the cart's velocity.\n",
      "\n",
      "    Source:\n",
      "        This environment corresponds to the version of the cart-pole problem described by Barto, Sutton, and Anderson\n",
      "\n",
      "    Observation: \n",
      "        Type: Box(4)\n",
      "        Num\tObservation                 Min         Max\n",
      "        0\tCart Position             -4.8            4.8\n",
      "        1\tCart Velocity             -Inf            Inf\n",
      "        2\tPole Angle                 -24 deg        24 deg\n",
      "        3\tPole Velocity At Tip      -Inf            Inf\n",
      "        \n",
      "    Actions:\n",
      "        Type: Discrete(2)\n",
      "        Num\tAction\n",
      "        0\tPush cart to the left\n",
      "        1\tPush cart to the right\n",
      "        \n",
      "        Note: The amount the velocity that is reduced or increased is not fixed; it depends on the angle the pole is pointing. This is because the center of gravity of the pole increases the amount of energy needed to move the cart underneath it\n",
      "\n",
      "    Reward:\n",
      "        Reward is 1 for every step taken, including the termination step\n",
      "\n",
      "    Starting State:\n",
      "        All observations are assigned a uniform random value in [-0.05..0.05]\n",
      "\n",
      "    Episode Termination:\n",
      "        Pole Angle is more than 12 degrees\n",
      "        Cart Position is more than 2.4 (center of the cart reaches the edge of the display)\n",
      "        Episode length is greater than 200\n",
      "        Solved Requirements\n",
      "        Considered solved when the average reward is greater than or equal to 195.0 over 100 consecutive trials.\n",
      "    \n"
     ]
    }
   ],
   "source": [
    "env = gym.make(\"CartPole-v0\")\n",
    "print(env.env.__doc__)"
   ]
  },
  {
   "cell_type": "code",
   "execution_count": 5,
   "metadata": {},
   "outputs": [],
   "source": [
    "device = torch.device('cuda:0' if torch.cuda.is_available() else 'cpu')"
   ]
  },
  {
   "cell_type": "code",
   "execution_count": 6,
   "metadata": {},
   "outputs": [],
   "source": [
    "class DQN(nn.Module):\n",
    "    def __init__(self, state_size, act_size, hidden_size):\n",
    "        super().__init__()\n",
    "        \n",
    "        self.layer1 = nn.Sequential(\n",
    "            nn.Linear(state_size, hidden_size),\n",
    "            nn.BatchNorm1d(hidden_size),\n",
    "            nn.PReLU(),\n",
    "        )\n",
    "        \n",
    "        self.layer2 = nn.Sequential(\n",
    "            nn.Linear(hidden_size, hidden_size),\n",
    "            nn.BatchNorm1d(hidden_size),\n",
    "            nn.PReLU(),\n",
    "        )\n",
    "        \n",
    "        self.head = nn.Linear(hidden_size, act_size)\n",
    "        \n",
    "    def forward(self, state):\n",
    "        return self.head(self.layer2(self.layer1(state)))"
   ]
  },
  {
   "cell_type": "code",
   "execution_count": 7,
   "metadata": {},
   "outputs": [],
   "source": [
    "transition = namedtuple(\"transition\", field_names=[\"state\", \"action\", \"reward\", \"next_state\", \"done\"])"
   ]
  },
  {
   "cell_type": "code",
   "execution_count": 8,
   "metadata": {},
   "outputs": [],
   "source": [
    "class Agent:\n",
    "    def __init__(self, input_dim, output_dim, hidden_dim, gamma=0.99, capacity=50000):\n",
    "        self.dqn = DQN(input_dim, output_dim, hidden_dim)\n",
    "        self.input_dim = input_dim\n",
    "        self.output_dim = output_dim\n",
    "        self.gamma = gamma\n",
    "        self.traj_history = deque(maxlen=capacity)\n",
    "\n",
    "        self.loss_fn = nn.MSELoss()\n",
    "        self.optim = Adam(self.dqn.parameters())\n",
    "    \n",
    "    def _to_variable(self, x):\n",
    "        return Variable(torch.Tensor(x))\n",
    "    \n",
    "    def get_Q(self, states):\n",
    "        states = self._to_variable(states.reshape(-1, self.input_dim))\n",
    "        self.dqn.train(mode=False)\n",
    "        return self.dqn(states)\n",
    "    \n",
    "    def get_action(self, states, eps):\n",
    "        if np.random.rand() < eps:\n",
    "            return np.random.choice(self.output_dim)\n",
    "        else:\n",
    "            self.dqn.train(mode=False)\n",
    "            scores = self.get_Q(states)\n",
    "            _, argmax = torch.max(scores.data, 1)\n",
    "            return int(argmax.numpy())\n",
    "        \n",
    "    def train(self, Q_pred, Q_true):\n",
    "        self.dqn.train()\n",
    "        self.optim.zero_grad()\n",
    "        loss = self.loss_fn(Q_pred, Q_true)\n",
    "        loss.backward()\n",
    "        self.optim.step()\n",
    "        return loss"
   ]
  },
  {
   "cell_type": "code",
   "execution_count": 9,
   "metadata": {},
   "outputs": [],
   "source": [
    "def train_helper(agent, minibatch, gamma):\n",
    "    states = np.vstack([x.state for x in minibatch])\n",
    "    actions = np.array([x.action for x in minibatch])\n",
    "    rewards = np.array([x.reward for x in minibatch])\n",
    "    next_states = np.vstack([x.next_state for x in minibatch])\n",
    "    done = np.array([x.done for x in minibatch])\n",
    "    \n",
    "    Q_predict = agent.get_Q(states)\n",
    "    Q_target = Q_predict.clone().data.numpy()\n",
    "    Q_target[np.arange(len(Q_target)), actions] = rewards + gamma * np.max(agent.get_Q(next_states).data.numpy(), axis=1) * ~done\n",
    "    Q_target = agent._to_variable(Q_target)\n",
    "\n",
    "    return agent.train(Q_predict, Q_target)"
   ]
  },
  {
   "cell_type": "code",
   "execution_count": 10,
   "metadata": {},
   "outputs": [],
   "source": [
    "def play_episode(env, agent, eps, batch_size):\n",
    "    state = env.reset()\n",
    "    done = False\n",
    "    total_reward = 0\n",
    "    \n",
    "    while not done:\n",
    "        action = agent.get_action(state, eps)\n",
    "        new_state, reward, done, info = env.step(action)\n",
    "        \n",
    "        total_reward += reward\n",
    "        \n",
    "        if done:\n",
    "            reward = -1\n",
    "            \n",
    "        agent.traj_history.append(\n",
    "            transition(state=state, action=action, reward=reward, next_state=new_state, done=done)\n",
    "        )\n",
    "        if len(agent.traj_history) > batch_size:\n",
    "            minibatch = random.sample(agent.traj_history, batch_size)\n",
    "            train_helper(agent, minibatch, agent.gamma)\n",
    "\n",
    "        state = new_state\n",
    "\n",
    "    return total_reward"
   ]
  },
  {
   "cell_type": "code",
   "execution_count": 11,
   "metadata": {},
   "outputs": [],
   "source": [
    "def get_env_dim(env):\n",
    "    input_dim = env.observation_space.shape[0]\n",
    "    output_dim = env.action_space.n\n",
    "    return input_dim, output_dim"
   ]
  },
  {
   "cell_type": "code",
   "execution_count": 12,
   "metadata": {},
   "outputs": [],
   "source": [
    "def epsilon_annealing(epsiode, max_episode, min_eps):\n",
    "    slope = (min_eps - 1.0) / max_episode\n",
    "    return max(slope * epsiode + 1.0, min_eps)"
   ]
  },
  {
   "cell_type": "code",
   "execution_count": 13,
   "metadata": {},
   "outputs": [],
   "source": [
    "def main():\n",
    "    set_seed()\n",
    "    rewards_history = []\n",
    "    moving_average = lambda x, **kw: pd.DataFrame({'x':np.asarray(x)}).x.ewm(**kw).mean().values\n",
    "    input_dim, output_dim = get_env_dim(env)\n",
    "    agent = Agent(input_dim, output_dim, HIDDEN_DIM)\n",
    "    \n",
    "    for step in range(N_EPISODE):\n",
    "        eps = epsilon_annealing(step, MAX_EPISODE, MIN_EPS)\n",
    "        reward = play_episode(env, agent, eps, BATCH_SIZE)\n",
    "        \n",
    "        rewards_history.append(reward)\n",
    "        \n",
    "        if step % 10:\n",
    "            clear_output(True)\n",
    "            plt.figure(figsize=[12, 6])\n",
    "            plt.title('Returns'); plt.grid()\n",
    "            plt.scatter(np.arange(len(rewards_history)), rewards_history, alpha=0.1)\n",
    "            plt.plot(moving_average(rewards_history, span=10, min_periods=10))\n",
    "            plt.show()\n",
    "        \n",
    "        running_reward = np.mean(rewards_history[-20:])\n",
    "        if running_reward > env.spec.reward_threshold:\n",
    "            print(\"Solved! Running reward is now {} and the last episode runs to {} time steps!\"\\\n",
    "                  .format(reward, step))\n",
    "            break"
   ]
  },
  {
   "cell_type": "code",
   "execution_count": 14,
   "metadata": {},
   "outputs": [],
   "source": [
    "HIDDEN_DIM = 256\n",
    "MIN_EPS = 0.01\n",
    "MAX_EPISODE = 20\n",
    "N_EPISODE = 1000\n",
    "BATCH_SIZE = 64"
   ]
  },
  {
   "cell_type": "code",
   "execution_count": 15,
   "metadata": {},
   "outputs": [
    {
     "data": {
      "image/png": "[encoded data removed]",
      "text/plain": [
       "<matplotlib.figure.Figure at 0x7f4a4486b828>"
      ]
     },
     "metadata": {},
     "output_type": "display_data"
    },
    {
     "name": "stdout",
     "output_type": "stream",
     "text": [
      "Solved! Running reward is now 200.0 and the last episode runs to 52 time steps!\n"
     ]
    }
   ],
   "source": [
    "main()"
   ]
  },
  {
   "cell_type": "code",
   "execution_count": null,
   "metadata": {},
   "outputs": [],
   "source": []
  }
 ],
 "metadata": {
  "kernelspec": {
   "display_name": "Python 3",
   "language": "python",
   "name": "python3"
  },
  "language_info": {
   "codemirror_mode": {
    "name": "ipython",
    "version": 3
   },
   "file_extension": ".py",
   "mimetype": "text/x-python",
   "name": "python",
   "nbconvert_exporter": "python",
   "pygments_lexer": "ipython3",
   "version": "3.5.2"
  }
 },
 "nbformat": 4,
 "nbformat_minor": 2
}
